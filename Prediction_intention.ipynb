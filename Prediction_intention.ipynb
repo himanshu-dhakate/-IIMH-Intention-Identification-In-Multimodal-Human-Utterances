{
  "nbformat": 4,
  "nbformat_minor": 0,
  "metadata": {
    "colab": {
      "provenance": []
    },
    "kernelspec": {
      "name": "python3",
      "display_name": "Python 3"
    },
    "language_info": {
      "name": "python"
    },
    "accelerator": "GPU",
    "gpuClass": "standard"
  },
  "cells": [
    {
      "cell_type": "code",
      "source": [
        "import argparse\n",
        "import numpy as np\n",
        "seed = 123\n",
        "np.random.seed(seed)\n",
        "import random\n",
        "import torch\n",
        "torch.manual_seed(seed)\n",
        "torch.cuda.manual_seed(seed)\n",
        "\n",
        "import pickle\n",
        "\n",
        "from sklearn import svm\n",
        "from sklearn.metrics import classification_report, confusion_matrix\n",
        "from sklearn.pipeline import make_pipeline\n",
        "from sklearn.preprocessing import FunctionTransformer, StandardScaler\n",
        "import tqdm"
      ],
      "metadata": {
        "id": "fN4xFSaR1gw3"
      },
      "execution_count": null,
      "outputs": []
    },
    {
      "cell_type": "code",
      "source": [
        "import os\n",
        "os.chdir('/content/drive/MyDrive/Majorproject/intention')"
      ],
      "metadata": {
        "id": "8PTt9WLs2Xqy"
      },
      "execution_count": null,
      "outputs": []
    },
    {
      "cell_type": "code",
      "source": [
        "def svm_train(train_input, train_output, C_value):\n",
        "    clf = svm.SVC(C=C_value, gamma='scale', kernel='rbf')\n",
        "\n",
        "    return clf.fit(train_input, train_output)"
      ],
      "metadata": {
        "id": "k5nTBuGY2ZPZ"
      },
      "execution_count": null,
      "outputs": []
    },
    {
      "cell_type": "code",
      "source": [
        "C = 1\n",
        "\n",
        "with open(\"{}.pickle\".format('model_result'), \"rb\") as f:\n",
        "  train_dataset, test_dataset = pickle.load(f)\n",
        "\n",
        "weighted_precision, weighted_recall = [], []\n",
        "weighted_fscores = []"
      ],
      "metadata": {
        "id": "JUUS9B_X2bmL"
      },
      "execution_count": null,
      "outputs": []
    },
    {
      "cell_type": "code",
      "source": [
        "dataset_index = 4\n",
        "model = svm_train(train_dataset[dataset_index][0], train_dataset[dataset_index][1], 1)"
      ],
      "metadata": {
        "id": "JsQnGF862pkX"
      },
      "execution_count": null,
      "outputs": []
    },
    {
      "cell_type": "code",
      "source": [
        "pred = model.predict(test_dataset[dataset_index][0])\n",
        "label = test_dataset[dataset_index][1]"
      ],
      "metadata": {
        "id": "fDBVNnh43KLL"
      },
      "execution_count": null,
      "outputs": []
    },
    {
      "cell_type": "code",
      "source": [
        "cm = confusion_matrix(label,pred)\n",
        "cm"
      ],
      "metadata": {
        "colab": {
          "base_uri": "https://localhost:8080/"
        },
        "id": "lbvP-LufatV3",
        "outputId": "86420f23-84f5-4522-b1e1-65fc87903cac"
      },
      "execution_count": null,
      "outputs": [
        {
          "output_type": "execute_result",
          "data": {
            "text/plain": [
              "array([[55, 22],\n",
              "       [ 9, 51]])"
            ]
          },
          "metadata": {},
          "execution_count": 13
        }
      ]
    },
    {
      "cell_type": "code",
      "source": [
        "import matplotlib.pyplot as plt\n",
        "import seaborn as sns\n",
        "import pandas as pd\n",
        "\n",
        "cm = pd.DataFrame(cm , index = ['Intentional','Not intentional'] , columns = ['Intentional','Not intentional'])\n",
        "plt.figure(figsize = (10,10))\n",
        "sns.heatmap(cm,cmap= \"Blues\", linecolor = 'black' , linewidth = 1 , annot = True, fmt='' , xticklabels = ['Intentional','Not intentional'] , yticklabels = ['Intentional','Not intentional'])"
      ],
      "metadata": {
        "colab": {
          "base_uri": "https://localhost:8080/",
          "height": 609
        },
        "id": "PvSpVkN93aen",
        "outputId": "1a2024d8-623f-4280-b806-5d27d32fd5aa"
      },
      "execution_count": null,
      "outputs": [
        {
          "output_type": "execute_result",
          "data": {
            "text/plain": [
              "<Axes: >"
            ]
          },
          "metadata": {},
          "execution_count": 14
        },
        {
          "output_type": "display_data",
          "data": {
            "text/plain": [
              "<Figure size 720x720 with 2 Axes>"
            ],
            "image/png": "[encoded data removed]"
          },
          "metadata": {
            "needs_background": "light"
          }
        }
      ]
    },
    {
      "cell_type": "code",
      "source": [
        "with open(\"{}.pickle\".format('model_result_pred'), \"rb\") as f:\n",
        "  pred_train_dataset, pred_test_dataset = pickle.load(f)"
      ],
      "metadata": {
        "id": "3WRkvgw33vPm"
      },
      "execution_count": null,
      "outputs": []
    },
    {
      "cell_type": "code",
      "source": [
        "import numpy as np\n",
        "train_set = pred_train_dataset[dataset_index]\n",
        "test_set = pred_test_dataset[dataset_index]"
      ],
      "metadata": {
        "id": "-fzawTVE4sHS"
      },
      "execution_count": null,
      "outputs": []
    },
    {
      "cell_type": "code",
      "source": [
        "model = svm_train(train_set[0], train_set[1], 1)"
      ],
      "metadata": {
        "id": "vKCNQtsx5hLK"
      },
      "execution_count": null,
      "outputs": []
    },
    {
      "cell_type": "code",
      "source": [
        "pred = model.predict(test_set[0])\n",
        "label = test_set[1]"
      ],
      "metadata": {
        "id": "gg8ej4qC5sAz"
      },
      "execution_count": null,
      "outputs": []
    },
    {
      "cell_type": "code",
      "source": [
        "from sklearn.metrics import classification_report,confusion_matrix,accuracy_score      \n",
        "\n",
        "print(classification_report(label, pred, target_names = ['Intentional','Not Intentional'], digits = 4))"
      ],
      "metadata": {
        "colab": {
          "base_uri": "https://localhost:8080/"
        },
        "id": "83rZcbkO6kSV",
        "outputId": "7069d1a9-9eeb-41f0-8180-351eebc27e71"
      },
      "execution_count": null,
      "outputs": [
        {
          "output_type": "stream",
          "name": "stdout",
          "text": [
            "                 precision    recall  f1-score   support\n",
            "\n",
            "    Intentional     0.8750    0.7273    0.7943        77\n",
            "Not Intentional     0.7123    0.8667    0.7820        60\n",
            "\n",
            "       accuracy                         0.7883       137\n",
            "      macro avg     0.7937    0.7970    0.7881       137\n",
            "   weighted avg     0.8038    0.7883    0.7889       137\n",
            "\n"
          ]
        }
      ]
    },
    {
      "cell_type": "code",
      "source": [
        "cm = confusion_matrix(label,pred)\n",
        "cm"
      ],
      "metadata": {
        "colab": {
          "base_uri": "https://localhost:8080/"
        },
        "id": "EaOoX4Z56lOd",
        "outputId": "c240c3f7-7b7b-43bf-966d-714c3d19dfac"
      },
      "execution_count": null,
      "outputs": [
        {
          "output_type": "execute_result",
          "data": {
            "text/plain": [
              "array([[56, 21],\n",
              "       [ 8, 52]])"
            ]
          },
          "metadata": {},
          "execution_count": 20
        }
      ]
    },
    {
      "cell_type": "code",
      "source": [
        "import matplotlib.pyplot as plt\n",
        "import seaborn as sns\n",
        "import pandas as pd\n",
        "\n",
        "cm = pd.DataFrame(cm , index = ['Intentional','Not intentional'] , columns = ['Intentional','Not intentional'])\n",
        "plt.figure(figsize = (10,10))\n",
        "sns.heatmap(cm,cmap= \"Blues\", linecolor = 'black' , linewidth = 1 , annot = True, fmt='' , xticklabels = ['Intentional','Not intentional'] , yticklabels = ['Intentional','Not intentional'])"
      ],
      "metadata": {
        "colab": {
          "base_uri": "https://localhost:8080/",
          "height": 609
        },
        "id": "qImmCQ8o62GV",
        "outputId": "b10cc5be-328d-4adb-8f1d-c23f6100a073"
      },
      "execution_count": null,
      "outputs": [
        {
          "output_type": "execute_result",
          "data": {
            "text/plain": [
              "<Axes: >"
            ]
          },
          "metadata": {},
          "execution_count": 21
        },
        {
          "output_type": "display_data",
          "data": {
            "text/plain": [
              "<Figure size 720x720 with 2 Axes>"
            ],
            "image/png": "[encoded data removed]"
          },
          "metadata": {
            "needs_background": "light"
          }
        }
      ]
    },
    {
      "cell_type": "code",
      "source": [
        "# save the model to disk\n",
        "filename = 'finalized_model.sav'\n",
        "pickle.dump(model, open(filename, 'wb'))"
      ],
      "metadata": {
        "id": "4vw2WB-C67kn"
      },
      "execution_count": null,
      "outputs": []
    },
    {
      "cell_type": "code",
      "source": [
        "filename = 'finalized_model.sav'\n",
        "loaded_model = pickle.load(open(filename, 'rb'))"
      ],
      "metadata": {
        "id": "Ss2L6qg_7Evv"
      },
      "execution_count": null,
      "outputs": []
    },
    {
      "cell_type": "code",
      "source": [
        "import numpy as np"
      ],
      "metadata": {
        "id": "-uCYpCGo7OOP"
      },
      "execution_count": null,
      "outputs": []
    },
    {
      "cell_type": "code",
      "source": [
        "def get_intention(filename , dataset_test , dataset_train):\n",
        "  result = {0 : \"Intentional\" , 1 : \"Non-Intentional\"}\n",
        "  if filename in dataset_test[2]:\n",
        "    pred = loaded_model.predict(dataset_test[0])\n",
        "    label = dataset_test[1]\n",
        "    index = np.where(dataset_test[2] == filename)[0][0]\n",
        "  elif filename in dataset_train[2]:\n",
        "    pred = loaded_model.predict(dataset_train[0])\n",
        "    label = dataset_train[1]\n",
        "    index = np.where(dataset_train[2] == filename)[0][0]\n",
        "  else:\n",
        "    return -1\n",
        "  print(\"The predicted utterance is {}\".format(result[pred[index]]))\n",
        "  print(\"The True utterance is {}\".format(result[label[index]]))"
      ],
      "metadata": {
        "id": "d8E6jQxw7W1z"
      },
      "execution_count": null,
      "outputs": []
    },
    {
      "cell_type": "code",
      "source": [
        "with open(\"{}.pickle\".format('model_result_pred'), \"rb\") as f:\n",
        "  pred_train_dataset, pred_test_dataset = pickle.load(f)"
      ],
      "metadata": {
        "id": "FvXq8mPz9MoI"
      },
      "execution_count": null,
      "outputs": []
    },
    {
      "cell_type": "code",
      "source": [
        "dataset_index = 4\n",
        "train_set = pred_train_dataset[dataset_index]\n",
        "test_set = pred_test_dataset[dataset_index]"
      ],
      "metadata": {
        "id": "TtBs59sX9uMO"
      },
      "execution_count": null,
      "outputs": []
    },
    {
      "cell_type": "code",
      "source": [
        "get_intention('1_6766' , test_set , train_set)"
      ],
      "metadata": {
        "colab": {
          "base_uri": "https://localhost:8080/"
        },
        "id": "pOV4z5LX95Xu",
        "outputId": "1a73968a-4b4a-49b7-885d-64d2ad0a999c"
      },
      "execution_count": null,
      "outputs": [
        {
          "output_type": "stream",
          "name": "stdout",
          "text": [
            "The predicted utterance is Intentional\n",
            "The True utterance is Intentional\n"
          ]
        }
      ]
    },
    {
      "cell_type": "code",
      "source": [
        "get_intention('1_11177' , test_set , train_set)"
      ],
      "metadata": {
        "id": "H_Z4PEtpCXaV",
        "colab": {
          "base_uri": "https://localhost:8080/"
        },
        "outputId": "f6bdb4df-aafc-46d4-f7e2-774c094ee470"
      },
      "execution_count": null,
      "outputs": [
        {
          "output_type": "stream",
          "name": "stdout",
          "text": [
            "The predicted utterance is Non-Intentional\n",
            "The True utterance is Non-Intentional\n"
          ]
        }
      ]
    },
    {
      "cell_type": "code",
      "source": [
        "get_intention('1_10495' , test_set , train_set)"
      ],
      "metadata": {
        "colab": {
          "base_uri": "https://localhost:8080/"
        },
        "id": "1vSvPKP7Cmiu",
        "outputId": "d38f7cef-de00-458d-c281-93e831e6f473"
      },
      "execution_count": null,
      "outputs": [
        {
          "output_type": "stream",
          "name": "stdout",
          "text": [
            "The predicted utterance is Non-Intentional\n",
            "The True utterance is Non-Intentional\n"
          ]
        }
      ]
    },
    {
      "cell_type": "code",
      "source": [
        "get_intention('1_2119' , test_set , train_set)"
      ],
      "metadata": {
        "colab": {
          "base_uri": "https://localhost:8080/"
        },
        "id": "brLspC_aDFTO",
        "outputId": "855137d1-c9b9-46b3-fdf3-4d4aa8285ec9"
      },
      "execution_count": null,
      "outputs": [
        {
          "output_type": "stream",
          "name": "stdout",
          "text": [
            "The predicted utterance is Non-Intentional\n",
            "The True utterance is Non-Intentional\n"
          ]
        }
      ]
    },
    {
      "cell_type": "code",
      "source": [
        "get_intention('1_537' , test_set , train_set)"
      ],
      "metadata": {
        "id": "bV9UbeK8EUFu",
        "colab": {
          "base_uri": "https://localhost:8080/"
        },
        "outputId": "c11ed41e-c70c-4f82-c03c-da7410e030e6"
      },
      "execution_count": null,
      "outputs": [
        {
          "output_type": "stream",
          "name": "stdout",
          "text": [
            "The predicted utterance is Non-Intentional\n",
            "The True utterance is Non-Intentional\n"
          ]
        }
      ]
    },
    {
      "cell_type": "code",
      "source": [
        "get_intention('1_971' , test_set , train_set)"
      ],
      "metadata": {
        "colab": {
          "base_uri": "https://localhost:8080/"
        },
        "id": "U54ryFfEeHxu",
        "outputId": "eda45818-bf4e-43f8-ee98-a1bdb9286d5b"
      },
      "execution_count": null,
      "outputs": [
        {
          "output_type": "stream",
          "name": "stdout",
          "text": [
            "The predicted utterance is Non-Intentional\n",
            "The True utterance is Non-Intentional\n"
          ]
        }
      ]
    },
    {
      "cell_type": "code",
      "source": [
        "get_intention('1_1803' , test_set , train_set)"
      ],
      "metadata": {
        "colab": {
          "base_uri": "https://localhost:8080/"
        },
        "id": "Fk-WcaoWfMc6",
        "outputId": "829817f1-2e33-4a35-dd14-57f6b858c10e"
      },
      "execution_count": null,
      "outputs": [
        {
          "output_type": "stream",
          "name": "stdout",
          "text": [
            "The predicted utterance is Non-Intentional\n",
            "The True utterance is Non-Intentional\n"
          ]
        }
      ]
    },
    {
      "cell_type": "code",
      "source": [
        "get_intention('1_1973' , test_set , train_set)"
      ],
      "metadata": {
        "colab": {
          "base_uri": "https://localhost:8080/"
        },
        "id": "3axRWlPglxJC",
        "outputId": "88d07688-fbb0-4724-f77e-96894d85268f"
      },
      "execution_count": null,
      "outputs": [
        {
          "output_type": "stream",
          "name": "stdout",
          "text": [
            "The predicted utterance is Non-Intentional\n",
            "The True utterance is Non-Intentional\n"
          ]
        }
      ]
    },
    {
      "cell_type": "code",
      "source": [
        "get_intention('1_4789' , test_set , train_set)"
      ],
      "metadata": {
        "colab": {
          "base_uri": "https://localhost:8080/"
        },
        "id": "gnQloDAemhMN",
        "outputId": "75e547f7-7f22-48ba-fad0-754deb717a73"
      },
      "execution_count": null,
      "outputs": [
        {
          "output_type": "stream",
          "name": "stdout",
          "text": [
            "The predicted utterance is Non-Intentional\n",
            "The True utterance is Non-Intentional\n"
          ]
        }
      ]
    },
    {
      "cell_type": "code",
      "source": [
        "get_intention('1_5617' , test_set , train_set)"
      ],
      "metadata": {
        "colab": {
          "base_uri": "https://localhost:8080/"
        },
        "id": "ddxxS2dayTVb",
        "outputId": "294cb106-45a4-45fa-e0d2-7f1a06071652"
      },
      "execution_count": null,
      "outputs": [
        {
          "output_type": "stream",
          "name": "stdout",
          "text": [
            "The predicted utterance is Non-Intentional\n",
            "The True utterance is Non-Intentional\n"
          ]
        }
      ]
    },
    {
      "cell_type": "code",
      "source": [
        "get_intention('1_5699' , test_set , train_set)"
      ],
      "metadata": {
        "colab": {
          "base_uri": "https://localhost:8080/"
        },
        "id": "vzk165SO1AuB",
        "outputId": "aa47214d-9a7d-4b74-d07e-f30a564d4f05"
      },
      "execution_count": null,
      "outputs": [
        {
          "output_type": "stream",
          "name": "stdout",
          "text": [
            "The predicted utterance is Non-Intentional\n",
            "The True utterance is Non-Intentional\n"
          ]
        }
      ]
    },
    {
      "cell_type": "code",
      "source": [
        "get_intention('1_8136' , test_set , train_set)"
      ],
      "metadata": {
        "colab": {
          "base_uri": "https://localhost:8080/"
        },
        "id": "RfOcGp822iWB",
        "outputId": "0a994b96-f3bb-4f3e-d5f9-18f9f83b100d"
      },
      "execution_count": null,
      "outputs": [
        {
          "output_type": "stream",
          "name": "stdout",
          "text": [
            "The predicted utterance is Non-Intentional\n",
            "The True utterance is Non-Intentional\n"
          ]
        }
      ]
    },
    {
      "cell_type": "code",
      "source": [],
      "metadata": {
        "id": "0EyeGJ-Y9A7i"
      },
      "execution_count": null,
      "outputs": []
    }
  ]
}